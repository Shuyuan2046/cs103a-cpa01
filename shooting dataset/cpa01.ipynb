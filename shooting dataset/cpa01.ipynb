{
 "cells": [
  {
   "cell_type": "markdown",
   "id": "75fc2a96-5820-4ed4-bb4b-0b604ac44968",
   "metadata": {
    "tags": []
   },
   "source": [
    "# Analysis of shooting in U.S."
   ]
  },
  {
   "cell_type": "markdown",
   "id": "b5a6bfe7-94b9-4f3c-84ca-e6fd9854087a",
   "metadata": {},
   "source": [
    "list of mass shootings in United States from 2018 - 2022.\n",
    "https://www.kaggle.com/hemil26/mass-shootings-in-united-states-20182022\n",
    "1. How many people are killed or injured for each year from 2018-2022?\n",
    "2. Trending of mass shooting in US (increasing/decreasing)?\n",
    "3. Which state have the highest massive shooting rate?"
   ]
  },
  {
   "cell_type": "code",
   "execution_count": null,
   "id": "dcbb7cd9-2fe6-46af-b792-c5be2897271d",
   "metadata": {},
   "outputs": [],
   "source": [
    "import csv\n",
    "import matplotlib.pyplot as plt"
   ]
  },
  {
   "cell_type": "code",
   "execution_count": null,
   "id": "7faed55e-9419-455d-b4c6-176f17643675",
   "metadata": {},
   "outputs": [],
   "source": [
    "with open('shootings_2022.csv', 'r', encoding='utf-8') as csvfile:\n",
    "    reader = csv.DictReader(csvfile)\n",
    "    data = [row for row in reader]\n",
    "    csvfile.close()\n",
    "print(len(data))\n",
    "data[0]"
   ]
  },
  {
   "cell_type": "code",
   "execution_count": null,
   "id": "ac8a1589-48ec-47a1-a8b0-c14c02368cdb",
   "metadata": {},
   "outputs": [],
   "source": [
    "list = [(d['Dead'], d['State']) for d in data]\n",
    "state_numOfDead = {}\n",
    "\n",
    "for l in list:\n",
    "    if l[0] in state_numOfDead:\n",
    "        state_numOfDead[[l[1]]] = state_numOfDead[[l[1]]] + int(l[0])\n",
    "    else:\n",
    "        state_numOfDead[l[1]] = int(l[0])\n",
    "states = state_numOfDead.keys()\n",
    "numOfDeath = state_numOfDead.values()"
   ]
  },
  {
   "cell_type": "code",
   "execution_count": null,
   "id": "502ec9b1-94c0-44c1-b654-fbbc392cb7fe",
   "metadata": {},
   "outputs": [],
   "source": [
    "plt.bar(states, numOfDeath)\n",
    "plt.show()"
   ]
  },
  {
   "cell_type": "code",
   "execution_count": null,
   "id": "263c69f4-dcff-454d-b2c6-16b3c4022df5",
   "metadata": {},
   "outputs": [],
   "source": []
  },
  {
   "cell_type": "code",
   "execution_count": null,
   "id": "88098fcf-1e46-4cd1-a55f-3f8c978a935a",
   "metadata": {},
   "outputs": [],
   "source": []
  }
 ],
 "metadata": {
  "kernelspec": {
   "display_name": "Python 3 (ipykernel)",
   "language": "python",
   "name": "python3"
  },
  "language_info": {
   "codemirror_mode": {
    "name": "ipython",
    "version": 3
   },
   "file_extension": ".py",
   "mimetype": "text/x-python",
   "name": "python",
   "nbconvert_exporter": "python",
   "pygments_lexer": "ipython3",
   "version": "3.10.0"
  }
 },
 "nbformat": 4,
 "nbformat_minor": 5
}
